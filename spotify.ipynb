{
 "cells": [
  {
   "cell_type": "code",
   "execution_count": 3,
   "metadata": {},
   "outputs": [],
   "source": [
    "import spotipy\n",
    "import requests\n",
    "from spotipy.oauth2 import SpotifyClientCredentials\n",
    "import pandas as pd\n",
    "import time"
   ]
  },
  {
   "cell_type": "code",
   "execution_count": 11,
   "metadata": {},
   "outputs": [
    {
     "name": "stdout",
     "output_type": "stream",
     "text": [
      "100\n",
      "[73, 63, 68, 68, 70, 69, 69, 66, 70, 71, 64, 69, 69, 62, 65, 67, 65, 75, 78, 65, 62, 72, 63, 69, 69, 72, 70, 68, 63, 68, 73, 61, 68, 67, 74, 66, 67, 73, 64, 62, 66, 67, 64, 61, 70, 68, 60, 62, 70, 66]\n"
     ]
    },
    {
     "name": "stderr",
     "output_type": "stream",
     "text": [
      "Max Retries reached\n"
     ]
    },
    {
     "ename": "SpotifyException",
     "evalue": "http status: 429, code:-1 - /v1/audio-features/?ids=7D0RhFcb3CrfPuTJ0obrod,3AJwUDP919kvQ9QcozQPxg,3yfqSUWxFvZELEM4PmlwIR,6ZOBP3NvffbU4SZcrnt1k6,0I3q5fE6wg7LIfHGngUTnV,60a0Rd6pjrkxjPbaKzXjfq,51c94ac31swyDQj9B3Lzs3,3K4HG9evC7dg3N0R9cYqk4,3oW6SWwGqiZSPTiAp7ZQoH,3UmaczJpikHgJFyBTAJVoz,3Gf5nttwcX9aaSQXRWidEZ,3WkibOpDF7cQ5xntM1epyf,62bOmKYxYg7dhrC6gH9vFn,40rvBMQizxkIqnjPdEWY1v,6glsMWIMIxQ4BedzLqGVi4,6naxalmIoLFWR0siv8dnQQ,57BrRMwf9LrcmuOsyGilwr,2AW37v0bDyuOzGP3XnmFuA,4wEuNvb7oG8oZYrZPZ9rPr,3IV4swNduIRunHREK80owz,1Vej0qeQ3ioKwpI6FUbRv1,3wMUvT6eIw2L5cZFG1yH9j,7FDV5ELOJHCGLe52AnttEd,0wqOReZDnrefefEsrIGeR4,4uOKFydzAejjSFqYbv1XPt,23wfXwnsPZYe5A1xXRHb3J,3Fzlg5r1IjhLk2qRw667od,7pv80uUHfocFqfTytu1MVi,0v1XpBHnsbkCn7iJ9Ucr1l,2gSVKxPDww9Eep5rdvtdem,587p8shYuTXUhThG3t9x60,4KoecuyOpZaNFZ0UqVsllc,5XVjNRubJUW0iPhhSWpLCj,1VuBmEauSZywQVtqbxNqka,3mNecsYFb6LQg7822DPXCP,3LI4MmibTkXH5cGpCGZgyw,2jSJm3Gv6GLxduWLenmjKS,2avKuMN2QXkaG9vvHa2JLt,5rAxhWcgFng3s570sGO2F8,6xXlurslWqFuyqTCBlErzX,6hwQ69v7VbPhTTR2fOtYX7,65B1tEOv5W294uCKbmEcFV,1yxJIFPhP2EqnQ6oWJKbmP,5eGEc27nnhtmcOh6RC890a,7lgvU7WnwcNZ8dbGUz8yhP,2aGw77pZqli064JiPuXYRi,4LwOrnuxJwR7C5Sw4liY4Z,5KDNFlHAdDJ84fhK27c35X,0aym2LBJBk9DAYuHHutrIl,0OvwzS8FX73Bw7ykMRmffU,47PiSg7z5qjUyEGKN4I1g7,1sjrDQXqAa9V07FjKIlAQ4,7cv28LXcjAC3GsXbUvXKbX,1m2xMsxbtxv21Brome189p,4GoBPGSNDWr9Sgi2Sc8xsj,46n2EGFnPC3tzWCN1Aqe26,5gUoppDphfYsIiguGr5drh,7IoK6jZBxY7NMoQPoPXZCF,5egqKwgK5r5rvGD1LrtR7J,7H3ojI1BsVy0dEJENqMt1k,4bUfMNNmiCmPXVyWzIfKeZ,2DpJ9T2RVRanZcYFHKOAfA,2rtGaCAeYtmcIvuZsvgTf6,5jgEJXjECdlhzNgfITSTVm,7vrLphPq4yjaX7jiDdd2Nc,5YBVDvTSSSiqv7KZDeUlXA,1TwVcKR6JojvPwBGbWZT36,2nejvFyJeTDtMRP2nUMt0J,19CmuECYssqkPWANF4nLWM,2f5N826udWfjT9iomeaBJt,6xxXrNJnnsQNLdgNk8S4y8,2QhURnm7mQDxBb5jWkbDug,3WibbMr6canxRJXhNtAvLU,4pbG9SUmWIvsROVLF0zF9s,3TwtrR1yNLY1PMPsrGQpOp,6FLwmdmW77N1Pxb1aWsZmO,7bCNS79pv7K9iYtqAo0uIW,2kRFrWaLWiKq48YYVdGcm8,0YwNdeDFbGP6AGwsQrtzdY,2TTYIwTM2iLC1YOyHuhRMt,7jtbRKtXtGtsJOBMaBo72W,2EduiM2UNwjCC7PsLxnOCH,7f1Dmr246cJ9uQYdbplTbh,6xtQ23d8GEXgcxyUKPtwc5,35o9a4iAfLl5jRmqMX9c1D,7MiLmLbwNoyf47xQ4TCVYp,1H5tvpoApNDxvxDexoaAUo,0R8P9KfGJCDULmlEoBagcO,42Kv1RoTAm09FeytxiuZIB,1aC1IBAETh2XYGOE8kCC6t,0WVTQp3SOCuMr08jh1jweV,6Zj3YsYfj8YTY9aGMDnpn8,68uupqD2ijA27hJxtvnsLH,0mXMr1OVZZKYmOinBaofOp,7CvOnbFdnIoXMQ4eFCo5lB,2g2GkH3vZHk4lWzBjgQ6nY,58rdbCe3SBJuJeWEJa8Htm,4sIFi8LpJWPvI5xviWFyA6,5susfx6SX1tebTCLSxe74K,3tSmXSxaAnU1EPGKa6NytH:\n Max Retries, reason: too many 429 error responses",
     "output_type": "error",
     "traceback": [
      "\u001b[1;31m---------------------------------------------------------------------------\u001b[0m",
      "\u001b[1;31mMaxRetryError\u001b[0m                             Traceback (most recent call last)",
      "File \u001b[1;32m~\\AppData\\Local\\Packages\\PythonSoftwareFoundation.Python.3.10_qbz5n2kfra8p0\\LocalCache\\local-packages\\Python310\\site-packages\\requests\\adapters.py:486\u001b[0m, in \u001b[0;36mHTTPAdapter.send\u001b[1;34m(self, request, stream, timeout, verify, cert, proxies)\u001b[0m\n\u001b[0;32m    485\u001b[0m \u001b[39mtry\u001b[39;00m:\n\u001b[1;32m--> 486\u001b[0m     resp \u001b[39m=\u001b[39m conn\u001b[39m.\u001b[39;49murlopen(\n\u001b[0;32m    487\u001b[0m         method\u001b[39m=\u001b[39;49mrequest\u001b[39m.\u001b[39;49mmethod,\n\u001b[0;32m    488\u001b[0m         url\u001b[39m=\u001b[39;49murl,\n\u001b[0;32m    489\u001b[0m         body\u001b[39m=\u001b[39;49mrequest\u001b[39m.\u001b[39;49mbody,\n\u001b[0;32m    490\u001b[0m         headers\u001b[39m=\u001b[39;49mrequest\u001b[39m.\u001b[39;49mheaders,\n\u001b[0;32m    491\u001b[0m         redirect\u001b[39m=\u001b[39;49m\u001b[39mFalse\u001b[39;49;00m,\n\u001b[0;32m    492\u001b[0m         assert_same_host\u001b[39m=\u001b[39;49m\u001b[39mFalse\u001b[39;49;00m,\n\u001b[0;32m    493\u001b[0m         preload_content\u001b[39m=\u001b[39;49m\u001b[39mFalse\u001b[39;49;00m,\n\u001b[0;32m    494\u001b[0m         decode_content\u001b[39m=\u001b[39;49m\u001b[39mFalse\u001b[39;49;00m,\n\u001b[0;32m    495\u001b[0m         retries\u001b[39m=\u001b[39;49m\u001b[39mself\u001b[39;49m\u001b[39m.\u001b[39;49mmax_retries,\n\u001b[0;32m    496\u001b[0m         timeout\u001b[39m=\u001b[39;49mtimeout,\n\u001b[0;32m    497\u001b[0m         chunked\u001b[39m=\u001b[39;49mchunked,\n\u001b[0;32m    498\u001b[0m     )\n\u001b[0;32m    500\u001b[0m \u001b[39mexcept\u001b[39;00m (ProtocolError, \u001b[39mOSError\u001b[39;00m) \u001b[39mas\u001b[39;00m err:\n",
      "File \u001b[1;32m~\\AppData\\Local\\Packages\\PythonSoftwareFoundation.Python.3.10_qbz5n2kfra8p0\\LocalCache\\local-packages\\Python310\\site-packages\\urllib3\\connectionpool.py:889\u001b[0m, in \u001b[0;36mHTTPConnectionPool.urlopen\u001b[1;34m(self, method, url, body, headers, retries, redirect, assert_same_host, timeout, pool_timeout, release_conn, chunked, body_pos, **response_kw)\u001b[0m\n\u001b[0;32m    888\u001b[0m     log\u001b[39m.\u001b[39mdebug(\u001b[39m\"\u001b[39m\u001b[39mRetry: \u001b[39m\u001b[39m%s\u001b[39;00m\u001b[39m\"\u001b[39m, url)\n\u001b[1;32m--> 889\u001b[0m     \u001b[39mreturn\u001b[39;00m \u001b[39mself\u001b[39m\u001b[39m.\u001b[39murlopen(\n\u001b[0;32m    890\u001b[0m         method,\n\u001b[0;32m    891\u001b[0m         url,\n\u001b[0;32m    892\u001b[0m         body,\n\u001b[0;32m    893\u001b[0m         headers,\n\u001b[0;32m    894\u001b[0m         retries\u001b[39m=\u001b[39mretries,\n\u001b[0;32m    895\u001b[0m         redirect\u001b[39m=\u001b[39mredirect,\n\u001b[0;32m    896\u001b[0m         assert_same_host\u001b[39m=\u001b[39massert_same_host,\n\u001b[0;32m    897\u001b[0m         timeout\u001b[39m=\u001b[39mtimeout,\n\u001b[0;32m    898\u001b[0m         pool_timeout\u001b[39m=\u001b[39mpool_timeout,\n\u001b[0;32m    899\u001b[0m         release_conn\u001b[39m=\u001b[39mrelease_conn,\n\u001b[0;32m    900\u001b[0m         chunked\u001b[39m=\u001b[39mchunked,\n\u001b[0;32m    901\u001b[0m         body_pos\u001b[39m=\u001b[39mbody_pos,\n\u001b[0;32m    902\u001b[0m         \u001b[39m*\u001b[39m\u001b[39m*\u001b[39mresponse_kw\n\u001b[0;32m    903\u001b[0m     )\n\u001b[0;32m    905\u001b[0m \u001b[39mreturn\u001b[39;00m response\n",
      "File \u001b[1;32m~\\AppData\\Local\\Packages\\PythonSoftwareFoundation.Python.3.10_qbz5n2kfra8p0\\LocalCache\\local-packages\\Python310\\site-packages\\urllib3\\connectionpool.py:889\u001b[0m, in \u001b[0;36mHTTPConnectionPool.urlopen\u001b[1;34m(self, method, url, body, headers, retries, redirect, assert_same_host, timeout, pool_timeout, release_conn, chunked, body_pos, **response_kw)\u001b[0m\n\u001b[0;32m    888\u001b[0m     log\u001b[39m.\u001b[39mdebug(\u001b[39m\"\u001b[39m\u001b[39mRetry: \u001b[39m\u001b[39m%s\u001b[39;00m\u001b[39m\"\u001b[39m, url)\n\u001b[1;32m--> 889\u001b[0m     \u001b[39mreturn\u001b[39;00m \u001b[39mself\u001b[39m\u001b[39m.\u001b[39murlopen(\n\u001b[0;32m    890\u001b[0m         method,\n\u001b[0;32m    891\u001b[0m         url,\n\u001b[0;32m    892\u001b[0m         body,\n\u001b[0;32m    893\u001b[0m         headers,\n\u001b[0;32m    894\u001b[0m         retries\u001b[39m=\u001b[39mretries,\n\u001b[0;32m    895\u001b[0m         redirect\u001b[39m=\u001b[39mredirect,\n\u001b[0;32m    896\u001b[0m         assert_same_host\u001b[39m=\u001b[39massert_same_host,\n\u001b[0;32m    897\u001b[0m         timeout\u001b[39m=\u001b[39mtimeout,\n\u001b[0;32m    898\u001b[0m         pool_timeout\u001b[39m=\u001b[39mpool_timeout,\n\u001b[0;32m    899\u001b[0m         release_conn\u001b[39m=\u001b[39mrelease_conn,\n\u001b[0;32m    900\u001b[0m         chunked\u001b[39m=\u001b[39mchunked,\n\u001b[0;32m    901\u001b[0m         body_pos\u001b[39m=\u001b[39mbody_pos,\n\u001b[0;32m    902\u001b[0m         \u001b[39m*\u001b[39m\u001b[39m*\u001b[39mresponse_kw\n\u001b[0;32m    903\u001b[0m     )\n\u001b[0;32m    905\u001b[0m \u001b[39mreturn\u001b[39;00m response\n",
      "File \u001b[1;32m~\\AppData\\Local\\Packages\\PythonSoftwareFoundation.Python.3.10_qbz5n2kfra8p0\\LocalCache\\local-packages\\Python310\\site-packages\\urllib3\\connectionpool.py:889\u001b[0m, in \u001b[0;36mHTTPConnectionPool.urlopen\u001b[1;34m(self, method, url, body, headers, retries, redirect, assert_same_host, timeout, pool_timeout, release_conn, chunked, body_pos, **response_kw)\u001b[0m\n\u001b[0;32m    888\u001b[0m     log\u001b[39m.\u001b[39mdebug(\u001b[39m\"\u001b[39m\u001b[39mRetry: \u001b[39m\u001b[39m%s\u001b[39;00m\u001b[39m\"\u001b[39m, url)\n\u001b[1;32m--> 889\u001b[0m     \u001b[39mreturn\u001b[39;00m \u001b[39mself\u001b[39m\u001b[39m.\u001b[39murlopen(\n\u001b[0;32m    890\u001b[0m         method,\n\u001b[0;32m    891\u001b[0m         url,\n\u001b[0;32m    892\u001b[0m         body,\n\u001b[0;32m    893\u001b[0m         headers,\n\u001b[0;32m    894\u001b[0m         retries\u001b[39m=\u001b[39mretries,\n\u001b[0;32m    895\u001b[0m         redirect\u001b[39m=\u001b[39mredirect,\n\u001b[0;32m    896\u001b[0m         assert_same_host\u001b[39m=\u001b[39massert_same_host,\n\u001b[0;32m    897\u001b[0m         timeout\u001b[39m=\u001b[39mtimeout,\n\u001b[0;32m    898\u001b[0m         pool_timeout\u001b[39m=\u001b[39mpool_timeout,\n\u001b[0;32m    899\u001b[0m         release_conn\u001b[39m=\u001b[39mrelease_conn,\n\u001b[0;32m    900\u001b[0m         chunked\u001b[39m=\u001b[39mchunked,\n\u001b[0;32m    901\u001b[0m         body_pos\u001b[39m=\u001b[39mbody_pos,\n\u001b[0;32m    902\u001b[0m         \u001b[39m*\u001b[39m\u001b[39m*\u001b[39mresponse_kw\n\u001b[0;32m    903\u001b[0m     )\n\u001b[0;32m    905\u001b[0m \u001b[39mreturn\u001b[39;00m response\n",
      "File \u001b[1;32m~\\AppData\\Local\\Packages\\PythonSoftwareFoundation.Python.3.10_qbz5n2kfra8p0\\LocalCache\\local-packages\\Python310\\site-packages\\urllib3\\connectionpool.py:879\u001b[0m, in \u001b[0;36mHTTPConnectionPool.urlopen\u001b[1;34m(self, method, url, body, headers, retries, redirect, assert_same_host, timeout, pool_timeout, release_conn, chunked, body_pos, **response_kw)\u001b[0m\n\u001b[0;32m    878\u001b[0m \u001b[39mtry\u001b[39;00m:\n\u001b[1;32m--> 879\u001b[0m     retries \u001b[39m=\u001b[39m retries\u001b[39m.\u001b[39;49mincrement(method, url, response\u001b[39m=\u001b[39;49mresponse, _pool\u001b[39m=\u001b[39;49m\u001b[39mself\u001b[39;49m)\n\u001b[0;32m    880\u001b[0m \u001b[39mexcept\u001b[39;00m MaxRetryError:\n",
      "File \u001b[1;32m~\\AppData\\Local\\Packages\\PythonSoftwareFoundation.Python.3.10_qbz5n2kfra8p0\\LocalCache\\local-packages\\Python310\\site-packages\\urllib3\\util\\retry.py:592\u001b[0m, in \u001b[0;36mRetry.increment\u001b[1;34m(self, method, url, response, error, _pool, _stacktrace)\u001b[0m\n\u001b[0;32m    591\u001b[0m \u001b[39mif\u001b[39;00m new_retry\u001b[39m.\u001b[39mis_exhausted():\n\u001b[1;32m--> 592\u001b[0m     \u001b[39mraise\u001b[39;00m MaxRetryError(_pool, url, error \u001b[39mor\u001b[39;00m ResponseError(cause))\n\u001b[0;32m    594\u001b[0m log\u001b[39m.\u001b[39mdebug(\u001b[39m\"\u001b[39m\u001b[39mIncremented Retry for (url=\u001b[39m\u001b[39m'\u001b[39m\u001b[39m%s\u001b[39;00m\u001b[39m'\u001b[39m\u001b[39m): \u001b[39m\u001b[39m%r\u001b[39;00m\u001b[39m\"\u001b[39m, url, new_retry)\n",
      "\u001b[1;31mMaxRetryError\u001b[0m: HTTPSConnectionPool(host='api.spotify.com', port=443): Max retries exceeded with url: /v1/audio-features/?ids=7D0RhFcb3CrfPuTJ0obrod,3AJwUDP919kvQ9QcozQPxg,3yfqSUWxFvZELEM4PmlwIR,6ZOBP3NvffbU4SZcrnt1k6,0I3q5fE6wg7LIfHGngUTnV,60a0Rd6pjrkxjPbaKzXjfq,51c94ac31swyDQj9B3Lzs3,3K4HG9evC7dg3N0R9cYqk4,3oW6SWwGqiZSPTiAp7ZQoH,3UmaczJpikHgJFyBTAJVoz,3Gf5nttwcX9aaSQXRWidEZ,3WkibOpDF7cQ5xntM1epyf,62bOmKYxYg7dhrC6gH9vFn,40rvBMQizxkIqnjPdEWY1v,6glsMWIMIxQ4BedzLqGVi4,6naxalmIoLFWR0siv8dnQQ,57BrRMwf9LrcmuOsyGilwr,2AW37v0bDyuOzGP3XnmFuA,4wEuNvb7oG8oZYrZPZ9rPr,3IV4swNduIRunHREK80owz,1Vej0qeQ3ioKwpI6FUbRv1,3wMUvT6eIw2L5cZFG1yH9j,7FDV5ELOJHCGLe52AnttEd,0wqOReZDnrefefEsrIGeR4,4uOKFydzAejjSFqYbv1XPt,23wfXwnsPZYe5A1xXRHb3J,3Fzlg5r1IjhLk2qRw667od,7pv80uUHfocFqfTytu1MVi,0v1XpBHnsbkCn7iJ9Ucr1l,2gSVKxPDww9Eep5rdvtdem,587p8shYuTXUhThG3t9x60,4KoecuyOpZaNFZ0UqVsllc,5XVjNRubJUW0iPhhSWpLCj,1VuBmEauSZywQVtqbxNqka,3mNecsYFb6LQg7822DPXCP,3LI4MmibTkXH5cGpCGZgyw,2jSJm3Gv6GLxduWLenmjKS,2avKuMN2QXkaG9vvHa2JLt,5rAxhWcgFng3s570sGO2F8,6xXlurslWqFuyqTCBlErzX,6hwQ69v7VbPhTTR2fOtYX7,65B1tEOv5W294uCKbmEcFV,1yxJIFPhP2EqnQ6oWJKbmP,5eGEc27nnhtmcOh6RC890a,7lgvU7WnwcNZ8dbGUz8yhP,2aGw77pZqli064JiPuXYRi,4LwOrnuxJwR7C5Sw4liY4Z,5KDNFlHAdDJ84fhK27c35X,0aym2LBJBk9DAYuHHutrIl,0OvwzS8FX73Bw7ykMRmffU,47PiSg7z5qjUyEGKN4I1g7,1sjrDQXqAa9V07FjKIlAQ4,7cv28LXcjAC3GsXbUvXKbX,1m2xMsxbtxv21Brome189p,4GoBPGSNDWr9Sgi2Sc8xsj,46n2EGFnPC3tzWCN1Aqe26,5gUoppDphfYsIiguGr5drh,7IoK6jZBxY7NMoQPoPXZCF,5egqKwgK5r5rvGD1LrtR7J,7H3ojI1BsVy0dEJENqMt1k,4bUfMNNmiCmPXVyWzIfKeZ,2DpJ9T2RVRanZcYFHKOAfA,2rtGaCAeYtmcIvuZsvgTf6,5jgEJXjECdlhzNgfITSTVm,7vrLphPq4yjaX7jiDdd2Nc,5YBVDvTSSSiqv7KZDeUlXA,1TwVcKR6JojvPwBGbWZT36,2nejvFyJeTDtMRP2nUMt0J,19CmuECYssqkPWANF4nLWM,2f5N826udWfjT9iomeaBJt,6xxXrNJnnsQNLdgNk8S4y8,2QhURnm7mQDxBb5jWkbDug,3WibbMr6canxRJXhNtAvLU,4pbG9SUmWIvsROVLF0zF9s,3TwtrR1yNLY1PMPsrGQpOp,6FLwmdmW77N1Pxb1aWsZmO,7bCNS79pv7K9iYtqAo0uIW,2kRFrWaLWiKq48YYVdGcm8,0YwNdeDFbGP6AGwsQrtzdY,2TTYIwTM2iLC1YOyHuhRMt,7jtbRKtXtGtsJOBMaBo72W,2EduiM2UNwjCC7PsLxnOCH,7f1Dmr246cJ9uQYdbplTbh,6xtQ23d8GEXgcxyUKPtwc5,35o9a4iAfLl5jRmqMX9c1D,7MiLmLbwNoyf47xQ4TCVYp,1H5tvpoApNDxvxDexoaAUo,0R8P9KfGJCDULmlEoBagcO,42Kv1RoTAm09FeytxiuZIB,1aC1IBAETh2XYGOE8kCC6t,0WVTQp3SOCuMr08jh1jweV,6Zj3YsYfj8YTY9aGMDnpn8,68uupqD2ijA27hJxtvnsLH,0mXMr1OVZZKYmOinBaofOp,7CvOnbFdnIoXMQ4eFCo5lB,2g2GkH3vZHk4lWzBjgQ6nY,58rdbCe3SBJuJeWEJa8Htm,4sIFi8LpJWPvI5xviWFyA6,5susfx6SX1tebTCLSxe74K,3tSmXSxaAnU1EPGKa6NytH (Caused by ResponseError('too many 429 error responses'))",
      "\nDuring handling of the above exception, another exception occurred:\n",
      "\u001b[1;31mRetryError\u001b[0m                                Traceback (most recent call last)",
      "File \u001b[1;32m~\\AppData\\Local\\Packages\\PythonSoftwareFoundation.Python.3.10_qbz5n2kfra8p0\\LocalCache\\local-packages\\Python310\\site-packages\\spotipy\\client.py:266\u001b[0m, in \u001b[0;36mSpotify._internal_call\u001b[1;34m(self, method, url, payload, params)\u001b[0m\n\u001b[0;32m    265\u001b[0m \u001b[39mtry\u001b[39;00m:\n\u001b[1;32m--> 266\u001b[0m     response \u001b[39m=\u001b[39m \u001b[39mself\u001b[39m\u001b[39m.\u001b[39m_session\u001b[39m.\u001b[39mrequest(\n\u001b[0;32m    267\u001b[0m         method, url, headers\u001b[39m=\u001b[39mheaders, proxies\u001b[39m=\u001b[39m\u001b[39mself\u001b[39m\u001b[39m.\u001b[39mproxies,\n\u001b[0;32m    268\u001b[0m         timeout\u001b[39m=\u001b[39m\u001b[39mself\u001b[39m\u001b[39m.\u001b[39mrequests_timeout, \u001b[39m*\u001b[39m\u001b[39m*\u001b[39margs\n\u001b[0;32m    269\u001b[0m     )\n\u001b[0;32m    271\u001b[0m     response\u001b[39m.\u001b[39mraise_for_status()\n",
      "File \u001b[1;32m~\\AppData\\Local\\Packages\\PythonSoftwareFoundation.Python.3.10_qbz5n2kfra8p0\\LocalCache\\local-packages\\Python310\\site-packages\\requests\\sessions.py:589\u001b[0m, in \u001b[0;36mSession.request\u001b[1;34m(self, method, url, params, data, headers, cookies, files, auth, timeout, allow_redirects, proxies, hooks, stream, verify, cert, json)\u001b[0m\n\u001b[0;32m    588\u001b[0m send_kwargs\u001b[39m.\u001b[39mupdate(settings)\n\u001b[1;32m--> 589\u001b[0m resp \u001b[39m=\u001b[39m \u001b[39mself\u001b[39m\u001b[39m.\u001b[39msend(prep, \u001b[39m*\u001b[39m\u001b[39m*\u001b[39msend_kwargs)\n\u001b[0;32m    591\u001b[0m \u001b[39mreturn\u001b[39;00m resp\n",
      "File \u001b[1;32m~\\AppData\\Local\\Packages\\PythonSoftwareFoundation.Python.3.10_qbz5n2kfra8p0\\LocalCache\\local-packages\\Python310\\site-packages\\requests\\sessions.py:703\u001b[0m, in \u001b[0;36mSession.send\u001b[1;34m(self, request, **kwargs)\u001b[0m\n\u001b[0;32m    702\u001b[0m \u001b[39m# Send the request\u001b[39;00m\n\u001b[1;32m--> 703\u001b[0m r \u001b[39m=\u001b[39m adapter\u001b[39m.\u001b[39msend(request, \u001b[39m*\u001b[39m\u001b[39m*\u001b[39mkwargs)\n\u001b[0;32m    705\u001b[0m \u001b[39m# Total elapsed time of the request (approximately)\u001b[39;00m\n",
      "File \u001b[1;32m~\\AppData\\Local\\Packages\\PythonSoftwareFoundation.Python.3.10_qbz5n2kfra8p0\\LocalCache\\local-packages\\Python310\\site-packages\\requests\\adapters.py:510\u001b[0m, in \u001b[0;36mHTTPAdapter.send\u001b[1;34m(self, request, stream, timeout, verify, cert, proxies)\u001b[0m\n\u001b[0;32m    509\u001b[0m \u001b[39mif\u001b[39;00m \u001b[39misinstance\u001b[39m(e\u001b[39m.\u001b[39mreason, ResponseError):\n\u001b[1;32m--> 510\u001b[0m     \u001b[39mraise\u001b[39;00m RetryError(e, request\u001b[39m=\u001b[39mrequest)\n\u001b[0;32m    512\u001b[0m \u001b[39mif\u001b[39;00m \u001b[39misinstance\u001b[39m(e\u001b[39m.\u001b[39mreason, _ProxyError):\n",
      "\u001b[1;31mRetryError\u001b[0m: HTTPSConnectionPool(host='api.spotify.com', port=443): Max retries exceeded with url: /v1/audio-features/?ids=7D0RhFcb3CrfPuTJ0obrod,3AJwUDP919kvQ9QcozQPxg,3yfqSUWxFvZELEM4PmlwIR,6ZOBP3NvffbU4SZcrnt1k6,0I3q5fE6wg7LIfHGngUTnV,60a0Rd6pjrkxjPbaKzXjfq,51c94ac31swyDQj9B3Lzs3,3K4HG9evC7dg3N0R9cYqk4,3oW6SWwGqiZSPTiAp7ZQoH,3UmaczJpikHgJFyBTAJVoz,3Gf5nttwcX9aaSQXRWidEZ,3WkibOpDF7cQ5xntM1epyf,62bOmKYxYg7dhrC6gH9vFn,40rvBMQizxkIqnjPdEWY1v,6glsMWIMIxQ4BedzLqGVi4,6naxalmIoLFWR0siv8dnQQ,57BrRMwf9LrcmuOsyGilwr,2AW37v0bDyuOzGP3XnmFuA,4wEuNvb7oG8oZYrZPZ9rPr,3IV4swNduIRunHREK80owz,1Vej0qeQ3ioKwpI6FUbRv1,3wMUvT6eIw2L5cZFG1yH9j,7FDV5ELOJHCGLe52AnttEd,0wqOReZDnrefefEsrIGeR4,4uOKFydzAejjSFqYbv1XPt,23wfXwnsPZYe5A1xXRHb3J,3Fzlg5r1IjhLk2qRw667od,7pv80uUHfocFqfTytu1MVi,0v1XpBHnsbkCn7iJ9Ucr1l,2gSVKxPDww9Eep5rdvtdem,587p8shYuTXUhThG3t9x60,4KoecuyOpZaNFZ0UqVsllc,5XVjNRubJUW0iPhhSWpLCj,1VuBmEauSZywQVtqbxNqka,3mNecsYFb6LQg7822DPXCP,3LI4MmibTkXH5cGpCGZgyw,2jSJm3Gv6GLxduWLenmjKS,2avKuMN2QXkaG9vvHa2JLt,5rAxhWcgFng3s570sGO2F8,6xXlurslWqFuyqTCBlErzX,6hwQ69v7VbPhTTR2fOtYX7,65B1tEOv5W294uCKbmEcFV,1yxJIFPhP2EqnQ6oWJKbmP,5eGEc27nnhtmcOh6RC890a,7lgvU7WnwcNZ8dbGUz8yhP,2aGw77pZqli064JiPuXYRi,4LwOrnuxJwR7C5Sw4liY4Z,5KDNFlHAdDJ84fhK27c35X,0aym2LBJBk9DAYuHHutrIl,0OvwzS8FX73Bw7ykMRmffU,47PiSg7z5qjUyEGKN4I1g7,1sjrDQXqAa9V07FjKIlAQ4,7cv28LXcjAC3GsXbUvXKbX,1m2xMsxbtxv21Brome189p,4GoBPGSNDWr9Sgi2Sc8xsj,46n2EGFnPC3tzWCN1Aqe26,5gUoppDphfYsIiguGr5drh,7IoK6jZBxY7NMoQPoPXZCF,5egqKwgK5r5rvGD1LrtR7J,7H3ojI1BsVy0dEJENqMt1k,4bUfMNNmiCmPXVyWzIfKeZ,2DpJ9T2RVRanZcYFHKOAfA,2rtGaCAeYtmcIvuZsvgTf6,5jgEJXjECdlhzNgfITSTVm,7vrLphPq4yjaX7jiDdd2Nc,5YBVDvTSSSiqv7KZDeUlXA,1TwVcKR6JojvPwBGbWZT36,2nejvFyJeTDtMRP2nUMt0J,19CmuECYssqkPWANF4nLWM,2f5N826udWfjT9iomeaBJt,6xxXrNJnnsQNLdgNk8S4y8,2QhURnm7mQDxBb5jWkbDug,3WibbMr6canxRJXhNtAvLU,4pbG9SUmWIvsROVLF0zF9s,3TwtrR1yNLY1PMPsrGQpOp,6FLwmdmW77N1Pxb1aWsZmO,7bCNS79pv7K9iYtqAo0uIW,2kRFrWaLWiKq48YYVdGcm8,0YwNdeDFbGP6AGwsQrtzdY,2TTYIwTM2iLC1YOyHuhRMt,7jtbRKtXtGtsJOBMaBo72W,2EduiM2UNwjCC7PsLxnOCH,7f1Dmr246cJ9uQYdbplTbh,6xtQ23d8GEXgcxyUKPtwc5,35o9a4iAfLl5jRmqMX9c1D,7MiLmLbwNoyf47xQ4TCVYp,1H5tvpoApNDxvxDexoaAUo,0R8P9KfGJCDULmlEoBagcO,42Kv1RoTAm09FeytxiuZIB,1aC1IBAETh2XYGOE8kCC6t,0WVTQp3SOCuMr08jh1jweV,6Zj3YsYfj8YTY9aGMDnpn8,68uupqD2ijA27hJxtvnsLH,0mXMr1OVZZKYmOinBaofOp,7CvOnbFdnIoXMQ4eFCo5lB,2g2GkH3vZHk4lWzBjgQ6nY,58rdbCe3SBJuJeWEJa8Htm,4sIFi8LpJWPvI5xviWFyA6,5susfx6SX1tebTCLSxe74K,3tSmXSxaAnU1EPGKa6NytH (Caused by ResponseError('too many 429 error responses'))",
      "\nDuring handling of the above exception, another exception occurred:\n",
      "\u001b[1;31mSpotifyException\u001b[0m                          Traceback (most recent call last)",
      "\u001b[1;32mc:\\Users\\co4me\\OneDrive\\Desktop\\CDC 2023 Adi, Nimil, Sanjay, Pranish\\CDC2023\\spotify.ipynb Cell 2\u001b[0m line \u001b[0;36m<cell line: 8>\u001b[1;34m()\u001b[0m\n\u001b[0;32m     <a href='vscode-notebook-cell:/c%3A/Users/co4me/OneDrive/Desktop/CDC%202023%20Adi%2C%20Nimil%2C%20Sanjay%2C%20Pranish/CDC2023/spotify.ipynb#W1sZmlsZQ%3D%3D?line=29'>30</a>\u001b[0m     popularity_list\u001b[39m.\u001b[39mextend(popularities)\n\u001b[0;32m     <a href='vscode-notebook-cell:/c%3A/Users/co4me/OneDrive/Desktop/CDC%202023%20Adi%2C%20Nimil%2C%20Sanjay%2C%20Pranish/CDC2023/spotify.ipynb#W1sZmlsZQ%3D%3D?line=30'>31</a>\u001b[0m     \u001b[39mprint\u001b[39m(popularities)\n\u001b[1;32m---> <a href='vscode-notebook-cell:/c%3A/Users/co4me/OneDrive/Desktop/CDC%202023%20Adi%2C%20Nimil%2C%20Sanjay%2C%20Pranish/CDC2023/spotify.ipynb#W1sZmlsZQ%3D%3D?line=31'>32</a>\u001b[0m     audio_features \u001b[39m=\u001b[39m spotify\u001b[39m.\u001b[39;49maudio_features(year_track_ids[num\u001b[39m-\u001b[39;49m\u001b[39m100\u001b[39;49m:num])\n\u001b[0;32m     <a href='vscode-notebook-cell:/c%3A/Users/co4me/OneDrive/Desktop/CDC%202023%20Adi%2C%20Nimil%2C%20Sanjay%2C%20Pranish/CDC2023/spotify.ipynb#W1sZmlsZQ%3D%3D?line=32'>33</a>\u001b[0m     audio_features_list\u001b[39m.\u001b[39mextend(audio_features)\n\u001b[0;32m     <a href='vscode-notebook-cell:/c%3A/Users/co4me/OneDrive/Desktop/CDC%202023%20Adi%2C%20Nimil%2C%20Sanjay%2C%20Pranish/CDC2023/spotify.ipynb#W1sZmlsZQ%3D%3D?line=34'>35</a>\u001b[0m track_ids\u001b[39m.\u001b[39mextend(year_track_ids)\n",
      "File \u001b[1;32m~\\AppData\\Local\\Packages\\PythonSoftwareFoundation.Python.3.10_qbz5n2kfra8p0\\LocalCache\\local-packages\\Python310\\site-packages\\spotipy\\client.py:1737\u001b[0m, in \u001b[0;36mSpotify.audio_features\u001b[1;34m(self, tracks)\u001b[0m\n\u001b[0;32m   1735\u001b[0m \u001b[39melse\u001b[39;00m:\n\u001b[0;32m   1736\u001b[0m     tlist \u001b[39m=\u001b[39m [\u001b[39mself\u001b[39m\u001b[39m.\u001b[39m_get_id(\u001b[39m\"\u001b[39m\u001b[39mtrack\u001b[39m\u001b[39m\"\u001b[39m, t) \u001b[39mfor\u001b[39;00m t \u001b[39min\u001b[39;00m tracks]\n\u001b[1;32m-> 1737\u001b[0m     results \u001b[39m=\u001b[39m \u001b[39mself\u001b[39;49m\u001b[39m.\u001b[39;49m_get(\u001b[39m\"\u001b[39;49m\u001b[39maudio-features/?ids=\u001b[39;49m\u001b[39m\"\u001b[39;49m \u001b[39m+\u001b[39;49m \u001b[39m\"\u001b[39;49m\u001b[39m,\u001b[39;49m\u001b[39m\"\u001b[39;49m\u001b[39m.\u001b[39;49mjoin(tlist))\n\u001b[0;32m   1738\u001b[0m \u001b[39m# the response has changed, look for the new style first, and if\u001b[39;00m\n\u001b[0;32m   1739\u001b[0m \u001b[39m# its not there, fallback on the old style\u001b[39;00m\n\u001b[0;32m   1740\u001b[0m \u001b[39mif\u001b[39;00m \u001b[39m\"\u001b[39m\u001b[39maudio_features\u001b[39m\u001b[39m\"\u001b[39m \u001b[39min\u001b[39;00m results:\n",
      "File \u001b[1;32m~\\AppData\\Local\\Packages\\PythonSoftwareFoundation.Python.3.10_qbz5n2kfra8p0\\LocalCache\\local-packages\\Python310\\site-packages\\spotipy\\client.py:323\u001b[0m, in \u001b[0;36mSpotify._get\u001b[1;34m(self, url, args, payload, **kwargs)\u001b[0m\n\u001b[0;32m    320\u001b[0m \u001b[39mif\u001b[39;00m args:\n\u001b[0;32m    321\u001b[0m     kwargs\u001b[39m.\u001b[39mupdate(args)\n\u001b[1;32m--> 323\u001b[0m \u001b[39mreturn\u001b[39;00m \u001b[39mself\u001b[39;49m\u001b[39m.\u001b[39;49m_internal_call(\u001b[39m\"\u001b[39;49m\u001b[39mGET\u001b[39;49m\u001b[39m\"\u001b[39;49m, url, payload, kwargs)\n",
      "File \u001b[1;32m~\\AppData\\Local\\Packages\\PythonSoftwareFoundation.Python.3.10_qbz5n2kfra8p0\\LocalCache\\local-packages\\Python310\\site-packages\\spotipy\\client.py:307\u001b[0m, in \u001b[0;36mSpotify._internal_call\u001b[1;34m(self, method, url, payload, params)\u001b[0m\n\u001b[0;32m    305\u001b[0m     \u001b[39mexcept\u001b[39;00m (\u001b[39mIndexError\u001b[39;00m, \u001b[39mAttributeError\u001b[39;00m):\n\u001b[0;32m    306\u001b[0m         reason \u001b[39m=\u001b[39m \u001b[39mNone\u001b[39;00m\n\u001b[1;32m--> 307\u001b[0m     \u001b[39mraise\u001b[39;00m SpotifyException(\n\u001b[0;32m    308\u001b[0m         \u001b[39m429\u001b[39m,\n\u001b[0;32m    309\u001b[0m         \u001b[39m-\u001b[39m\u001b[39m1\u001b[39m,\n\u001b[0;32m    310\u001b[0m         \u001b[39m\"\u001b[39m\u001b[39m%s\u001b[39;00m\u001b[39m:\u001b[39m\u001b[39m\\n\u001b[39;00m\u001b[39m \u001b[39m\u001b[39m%s\u001b[39;00m\u001b[39m\"\u001b[39m \u001b[39m%\u001b[39m (request\u001b[39m.\u001b[39mpath_url, \u001b[39m\"\u001b[39m\u001b[39mMax Retries\u001b[39m\u001b[39m\"\u001b[39m),\n\u001b[0;32m    311\u001b[0m         reason\u001b[39m=\u001b[39mreason\n\u001b[0;32m    312\u001b[0m     )\n\u001b[0;32m    313\u001b[0m \u001b[39mexcept\u001b[39;00m \u001b[39mValueError\u001b[39;00m:\n\u001b[0;32m    314\u001b[0m     results \u001b[39m=\u001b[39m \u001b[39mNone\u001b[39;00m\n",
      "\u001b[1;31mSpotifyException\u001b[0m: http status: 429, code:-1 - /v1/audio-features/?ids=7D0RhFcb3CrfPuTJ0obrod,3AJwUDP919kvQ9QcozQPxg,3yfqSUWxFvZELEM4PmlwIR,6ZOBP3NvffbU4SZcrnt1k6,0I3q5fE6wg7LIfHGngUTnV,60a0Rd6pjrkxjPbaKzXjfq,51c94ac31swyDQj9B3Lzs3,3K4HG9evC7dg3N0R9cYqk4,3oW6SWwGqiZSPTiAp7ZQoH,3UmaczJpikHgJFyBTAJVoz,3Gf5nttwcX9aaSQXRWidEZ,3WkibOpDF7cQ5xntM1epyf,62bOmKYxYg7dhrC6gH9vFn,40rvBMQizxkIqnjPdEWY1v,6glsMWIMIxQ4BedzLqGVi4,6naxalmIoLFWR0siv8dnQQ,57BrRMwf9LrcmuOsyGilwr,2AW37v0bDyuOzGP3XnmFuA,4wEuNvb7oG8oZYrZPZ9rPr,3IV4swNduIRunHREK80owz,1Vej0qeQ3ioKwpI6FUbRv1,3wMUvT6eIw2L5cZFG1yH9j,7FDV5ELOJHCGLe52AnttEd,0wqOReZDnrefefEsrIGeR4,4uOKFydzAejjSFqYbv1XPt,23wfXwnsPZYe5A1xXRHb3J,3Fzlg5r1IjhLk2qRw667od,7pv80uUHfocFqfTytu1MVi,0v1XpBHnsbkCn7iJ9Ucr1l,2gSVKxPDww9Eep5rdvtdem,587p8shYuTXUhThG3t9x60,4KoecuyOpZaNFZ0UqVsllc,5XVjNRubJUW0iPhhSWpLCj,1VuBmEauSZywQVtqbxNqka,3mNecsYFb6LQg7822DPXCP,3LI4MmibTkXH5cGpCGZgyw,2jSJm3Gv6GLxduWLenmjKS,2avKuMN2QXkaG9vvHa2JLt,5rAxhWcgFng3s570sGO2F8,6xXlurslWqFuyqTCBlErzX,6hwQ69v7VbPhTTR2fOtYX7,65B1tEOv5W294uCKbmEcFV,1yxJIFPhP2EqnQ6oWJKbmP,5eGEc27nnhtmcOh6RC890a,7lgvU7WnwcNZ8dbGUz8yhP,2aGw77pZqli064JiPuXYRi,4LwOrnuxJwR7C5Sw4liY4Z,5KDNFlHAdDJ84fhK27c35X,0aym2LBJBk9DAYuHHutrIl,0OvwzS8FX73Bw7ykMRmffU,47PiSg7z5qjUyEGKN4I1g7,1sjrDQXqAa9V07FjKIlAQ4,7cv28LXcjAC3GsXbUvXKbX,1m2xMsxbtxv21Brome189p,4GoBPGSNDWr9Sgi2Sc8xsj,46n2EGFnPC3tzWCN1Aqe26,5gUoppDphfYsIiguGr5drh,7IoK6jZBxY7NMoQPoPXZCF,5egqKwgK5r5rvGD1LrtR7J,7H3ojI1BsVy0dEJENqMt1k,4bUfMNNmiCmPXVyWzIfKeZ,2DpJ9T2RVRanZcYFHKOAfA,2rtGaCAeYtmcIvuZsvgTf6,5jgEJXjECdlhzNgfITSTVm,7vrLphPq4yjaX7jiDdd2Nc,5YBVDvTSSSiqv7KZDeUlXA,1TwVcKR6JojvPwBGbWZT36,2nejvFyJeTDtMRP2nUMt0J,19CmuECYssqkPWANF4nLWM,2f5N826udWfjT9iomeaBJt,6xxXrNJnnsQNLdgNk8S4y8,2QhURnm7mQDxBb5jWkbDug,3WibbMr6canxRJXhNtAvLU,4pbG9SUmWIvsROVLF0zF9s,3TwtrR1yNLY1PMPsrGQpOp,6FLwmdmW77N1Pxb1aWsZmO,7bCNS79pv7K9iYtqAo0uIW,2kRFrWaLWiKq48YYVdGcm8,0YwNdeDFbGP6AGwsQrtzdY,2TTYIwTM2iLC1YOyHuhRMt,7jtbRKtXtGtsJOBMaBo72W,2EduiM2UNwjCC7PsLxnOCH,7f1Dmr246cJ9uQYdbplTbh,6xtQ23d8GEXgcxyUKPtwc5,35o9a4iAfLl5jRmqMX9c1D,7MiLmLbwNoyf47xQ4TCVYp,1H5tvpoApNDxvxDexoaAUo,0R8P9KfGJCDULmlEoBagcO,42Kv1RoTAm09FeytxiuZIB,1aC1IBAETh2XYGOE8kCC6t,0WVTQp3SOCuMr08jh1jweV,6Zj3YsYfj8YTY9aGMDnpn8,68uupqD2ijA27hJxtvnsLH,0mXMr1OVZZKYmOinBaofOp,7CvOnbFdnIoXMQ4eFCo5lB,2g2GkH3vZHk4lWzBjgQ6nY,58rdbCe3SBJuJeWEJa8Htm,4sIFi8LpJWPvI5xviWFyA6,5susfx6SX1tebTCLSxe74K,3tSmXSxaAnU1EPGKa6NytH:\n Max Retries, reason: too many 429 error responses"
     ]
    }
   ],
   "source": [
    "spotify = spotipy.Spotify(client_credentials_manager=SpotifyClientCredentials(client_id=\"c704a041594444eda9dcf53699cc22cd\",\n",
    "                                                   client_secret=\"99d731b2cf3641a5a08bc0f2444868f9\"))\n",
    "\n",
    "track_ids = []\n",
    "popularity_list = []\n",
    "audio_features_list = []\n",
    "\n",
    "for year in range(2000, 2001):\n",
    "    year_track_ids = []\n",
    "    offset = 0\n",
    "    limit = 50\n",
    "    total = float(\"inf\")\n",
    "    search_query = f\"year:{year}\"\n",
    "    while offset < total:\n",
    "        results = spotify.search(q=search_query, type=\"track\", limit=limit, offset=offset)\n",
    "        time.sleep(10)\n",
    "        for track in results[\"tracks\"][\"items\"]:\n",
    "            year_track_ids.append(track[\"id\"])\n",
    "        \n",
    "        offset += limit\n",
    "        total = results[\"tracks\"][\"total\"]\n",
    "        \n",
    "    for num in range(100, total, 100):\n",
    "        print(num)\n",
    "        tracks_pop = spotify.tracks(year_track_ids[num-100:num-50])['tracks']\n",
    "        popularities = [track_pop['popularity'] for track_pop in tracks_pop]\n",
    "        popularity_list.extend(popularities)\n",
    "        tracks_pop = spotify.tracks(year_track_ids[num-50:num])['tracks']\n",
    "        popularities = [track_pop['popularity'] for track_pop in tracks_pop]\n",
    "        popularity_list.extend(popularities)\n",
    "        print(popularities)\n",
    "        audio_features = spotify.audio_features(year_track_ids[num-100:num])\n",
    "        audio_features_list.extend(audio_features)\n",
    "         \n",
    "    track_ids.extend(year_track_ids)\n",
    "    \n",
    "\n",
    "\n",
    "print(track_ids[:50], popularity_list[:50], audio_features_list[:50])"
   ]
  },
  {
   "cell_type": "code",
   "execution_count": null,
   "metadata": {},
   "outputs": [],
   "source": [
    "df = pd.DataFrame({\n",
    "    \"Track ID\": track_ids,\n",
    "    \"Popularity\": popularity_list,\n",
    "    \"Danceability\": [af['danceability'] if af else None for af in audio_features_list],\n",
    "    \"Energy\": [af['energy'] if af else None for af in audio_features_list],\n",
    "    \"Valence\": [af['valence'] if af else None for af in audio_features_list],\n",
    "    \"Tempo\": [af['tempo'] if af else None for af in audio_features_list],\n",
    "    \"Acousticness\": [af['acousticness'] if af else None for af in audio_features_list],\n",
    "    \"Instrumentalness\": [af['instrumentalness'] if af else None for af in audio_features_list],\n",
    "    \"Liveness\": [af['liveness'] if af else None for af in audio_features_list],\n",
    "    \"Loudness\": [af['loudness'] if af else None for af in audio_features_list],\n",
    "    \"Speechiness\": [af['speechiness'] if af else None for af in audio_features_list],\n",
    "    \"Duration\": [af['duration_ms'] if af else None for af in audio_features_list],\n",
    "    \"Key\": [af['key'] if af else None for af in audio_features_list],\n",
    "    \"Mode\": [af['mode'] if af else None for af in audio_features_list],\n",
    "    \"Time_Signature\": [af['time_signature'] if af else None for af in audio_features_list]\n",
    "})\n",
    "\n",
    "print(df.head(n=10))\n"
   ]
  },
  {
   "cell_type": "code",
   "execution_count": null,
   "metadata": {},
   "outputs": [],
   "source": [
    "df.to_csv('spotify_data.csv', index=False)"
   ]
  }
 ],
 "metadata": {
  "interpreter": {
   "hash": "9da3134d428bb6a323686dc5136d3c0e4cd87439cb794911c87ced0ccd1dc809"
  },
  "kernelspec": {
   "display_name": "Python 3.10.5 ('venv': venv)",
   "language": "python",
   "name": "python3"
  },
  "language_info": {
   "codemirror_mode": {
    "name": "ipython",
    "version": 3
   },
   "file_extension": ".py",
   "mimetype": "text/x-python",
   "name": "python",
   "nbconvert_exporter": "python",
   "pygments_lexer": "ipython3",
   "version": "3.10.11"
  },
  "orig_nbformat": 4
 },
 "nbformat": 4,
 "nbformat_minor": 2
}
