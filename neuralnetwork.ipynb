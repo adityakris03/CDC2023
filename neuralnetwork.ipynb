{
 "cells": [
  {
   "cell_type": "markdown",
   "metadata": {},
   "source": [
    "Start of the Neural Network"
   ]
  },
  {
   "cell_type": "code",
   "execution_count": 9,
   "metadata": {},
   "outputs": [
    {
     "ename": "AttributeError",
     "evalue": "Module 'numpy.core' has no attribute 'numerictypes'",
     "output_type": "error",
     "traceback": [
      "\u001b[1;31m---------------------------------------------------------------------------\u001b[0m",
      "\u001b[1;31mAttributeError\u001b[0m                            Traceback (most recent call last)",
      "\u001b[1;32mc:\\Users\\co4me\\OneDrive\\Desktop\\CDC 2023 Adi, Nimil, Sanjay, Pranish\\CDC2023\\neuralnetwork.ipynb Cell 2\u001b[0m line \u001b[0;36m<cell line: 1>\u001b[1;34m()\u001b[0m\n\u001b[1;32m----> <a href='vscode-notebook-cell:/c%3A/Users/co4me/OneDrive/Desktop/CDC%202023%20Adi%2C%20Nimil%2C%20Sanjay%2C%20Pranish/CDC2023/neuralnetwork.ipynb#W3sZmlsZQ%3D%3D?line=0'>1</a>\u001b[0m \u001b[39mimport\u001b[39;00m \u001b[39mpandas\u001b[39;00m \u001b[39mas\u001b[39;00m \u001b[39mpd\u001b[39;00m\n\u001b[0;32m      <a href='vscode-notebook-cell:/c%3A/Users/co4me/OneDrive/Desktop/CDC%202023%20Adi%2C%20Nimil%2C%20Sanjay%2C%20Pranish/CDC2023/neuralnetwork.ipynb#W3sZmlsZQ%3D%3D?line=1'>2</a>\u001b[0m \u001b[39mimport\u001b[39;00m \u001b[39mtensorflow\u001b[39;00m \u001b[39mas\u001b[39;00m \u001b[39mtf\u001b[39;00m\n\u001b[0;32m      <a href='vscode-notebook-cell:/c%3A/Users/co4me/OneDrive/Desktop/CDC%202023%20Adi%2C%20Nimil%2C%20Sanjay%2C%20Pranish/CDC2023/neuralnetwork.ipynb#W3sZmlsZQ%3D%3D?line=2'>3</a>\u001b[0m \u001b[39mimport\u001b[39;00m \u001b[39mmatplotlib\u001b[39;00m \u001b[39mas\u001b[39;00m \u001b[39mmpl\u001b[39;00m\n",
      "File \u001b[1;32m~\\AppData\\Local\\Packages\\PythonSoftwareFoundation.Python.3.10_qbz5n2kfra8p0\\LocalCache\\local-packages\\Python310\\site-packages\\pandas\\__init__.py:11\u001b[0m, in \u001b[0;36m<module>\u001b[1;34m\u001b[0m\n\u001b[0;32m      9\u001b[0m \u001b[39mfor\u001b[39;00m dependency \u001b[39min\u001b[39;00m hard_dependencies:\n\u001b[0;32m     10\u001b[0m     \u001b[39mtry\u001b[39;00m:\n\u001b[1;32m---> 11\u001b[0m         \u001b[39m__import__\u001b[39;49m(dependency)\n\u001b[0;32m     12\u001b[0m     \u001b[39mexcept\u001b[39;00m \u001b[39mImportError\u001b[39;00m \u001b[39mas\u001b[39;00m e:\n\u001b[0;32m     13\u001b[0m         missing_dependencies\u001b[39m.\u001b[39mappend(\u001b[39mf\u001b[39m\u001b[39m\"\u001b[39m\u001b[39m{\u001b[39;00mdependency\u001b[39m}\u001b[39;00m\u001b[39m: \u001b[39m\u001b[39m{\u001b[39;00me\u001b[39m}\u001b[39;00m\u001b[39m\"\u001b[39m)\n",
      "File \u001b[1;32m~\\AppData\\Local\\Packages\\PythonSoftwareFoundation.Python.3.10_qbz5n2kfra8p0\\LocalCache\\local-packages\\Python310\\site-packages\\numpy\\__init__.py:191\u001b[0m, in \u001b[0;36m<module>\u001b[1;34m\u001b[0m\n\u001b[0;32m    184\u001b[0m __deprecated_attrs__\u001b[39m.\u001b[39mupdate({\n\u001b[0;32m    185\u001b[0m     n: (\u001b[39mgetattr\u001b[39m(_builtins, n), _msg\u001b[39m.\u001b[39mformat(n\u001b[39m=\u001b[39mn, extended_msg\u001b[39m=\u001b[39mextended_msg))\n\u001b[0;32m    186\u001b[0m     \u001b[39mfor\u001b[39;00m n, extended_msg \u001b[39min\u001b[39;00m _type_info\n\u001b[0;32m    187\u001b[0m })\n\u001b[0;32m    189\u001b[0m \u001b[39m# Numpy 1.20.0, 2020-10-19\u001b[39;00m\n\u001b[0;32m    190\u001b[0m __deprecated_attrs__[\u001b[39m\"\u001b[39m\u001b[39mtypeDict\u001b[39m\u001b[39m\"\u001b[39m] \u001b[39m=\u001b[39m (\n\u001b[1;32m--> 191\u001b[0m     core\u001b[39m.\u001b[39;49mnumerictypes\u001b[39m.\u001b[39mtypeDict,\n\u001b[0;32m    192\u001b[0m     \u001b[39m\"\u001b[39m\u001b[39m`np.typeDict` is a deprecated alias for `np.sctypeDict`.\u001b[39m\u001b[39m\"\u001b[39m\n\u001b[0;32m    193\u001b[0m )\n\u001b[0;32m    195\u001b[0m \u001b[39m# NumPy 1.22, 2021-10-20\u001b[39;00m\n\u001b[0;32m    196\u001b[0m __deprecated_attrs__[\u001b[39m\"\u001b[39m\u001b[39mMachAr\u001b[39m\u001b[39m\"\u001b[39m] \u001b[39m=\u001b[39m (\n\u001b[0;32m    197\u001b[0m     core\u001b[39m.\u001b[39m_machar\u001b[39m.\u001b[39mMachAr,\n\u001b[0;32m    198\u001b[0m     \u001b[39m\"\u001b[39m\u001b[39m`np.MachAr` is deprecated (NumPy 1.22).\u001b[39m\u001b[39m\"\u001b[39m\n\u001b[0;32m    199\u001b[0m )\n",
      "File \u001b[1;32m~\\AppData\\Local\\Packages\\PythonSoftwareFoundation.Python.3.10_qbz5n2kfra8p0\\LocalCache\\local-packages\\Python310\\site-packages\\numpy\\core\\__init__.py:161\u001b[0m, in \u001b[0;36m__getattr__\u001b[1;34m(name)\u001b[0m\n\u001b[0;32m    156\u001b[0m     warnings\u001b[39m.\u001b[39mwarn(\n\u001b[0;32m    157\u001b[0m         \u001b[39m\"\u001b[39m\u001b[39mThe `np.core.machar` module is deprecated (NumPy 1.22)\u001b[39m\u001b[39m\"\u001b[39m,\n\u001b[0;32m    158\u001b[0m         \u001b[39mDeprecationWarning\u001b[39;00m, stacklevel\u001b[39m=\u001b[39m\u001b[39m2\u001b[39m,\n\u001b[0;32m    159\u001b[0m     )\n\u001b[0;32m    160\u001b[0m     \u001b[39mreturn\u001b[39;00m _machar\n\u001b[1;32m--> 161\u001b[0m \u001b[39mraise\u001b[39;00m \u001b[39mAttributeError\u001b[39;00m(\u001b[39mf\u001b[39m\u001b[39m\"\u001b[39m\u001b[39mModule \u001b[39m\u001b[39m{\u001b[39;00m\u001b[39m__name__\u001b[39m\u001b[39m!r}\u001b[39;00m\u001b[39m has no attribute \u001b[39m\u001b[39m{\u001b[39;00mname\u001b[39m!r}\u001b[39;00m\u001b[39m\"\u001b[39m)\n",
      "\u001b[1;31mAttributeError\u001b[0m: Module 'numpy.core' has no attribute 'numerictypes'"
     ]
    }
   ],
   "source": [
    "import pandas as pd\n",
    "import tensorflow as tf\n",
    "import matplotlib as mpl\n"
   ]
  },
  {
   "cell_type": "code",
   "execution_count": 61,
   "metadata": {},
   "outputs": [],
   "source": [
    "from tensorflow import keras"
   ]
  },
  {
   "cell_type": "code",
   "execution_count": 41,
   "metadata": {},
   "outputs": [],
   "source": [
    "dfs = []\n",
    "for year in range(2000, 2011):\n",
    "    dfs.append(pd.read_csv(f'{year}.csv'))\n",
    "df = pd.concat(dfs)\n",
    "len(df)\n",
    "df = df.drop('id', axis = 1)"
   ]
  },
  {
   "cell_type": "code",
   "execution_count": 42,
   "metadata": {},
   "outputs": [
    {
     "name": "stdout",
     "output_type": "stream",
     "text": [
      "   popularity  danceability  energy  key  loudness  mode  speechiness  \\\n",
      "0          86         0.371   0.268    1   -10.506     1       0.0281   \n",
      "1          90         0.429   0.661   11    -7.227     1       0.0281   \n",
      "2          87         0.949   0.661    5    -4.244     0       0.0572   \n",
      "3          81         0.545   0.865   11    -5.708     0       0.0286   \n",
      "4          82         0.843   0.806    4    -5.946     0       0.2690   \n",
      "\n",
      "   acousticness  instrumentalness  liveness  valence    tempo  duration_ms  \\\n",
      "0       0.74800          0.051700    0.1040    0.165  102.617       227093   \n",
      "1       0.00239          0.000121    0.2340    0.285  173.372       266773   \n",
      "2       0.03020          0.000000    0.0454    0.760  104.504       284200   \n",
      "3       0.00664          0.000011    0.1680    0.543   99.009       233933   \n",
      "4       0.14300          0.000000    0.0771    0.613   94.948       270507   \n",
      "\n",
      "   time_signature  \n",
      "0               3  \n",
      "1               4  \n",
      "2               4  \n",
      "3               4  \n",
      "4               4  \n"
     ]
    }
   ],
   "source": [
    "print(df.head())\n",
    "\n"
   ]
  },
  {
   "cell_type": "markdown",
   "metadata": {},
   "source": [
    "What we gotta predict = Popularity    \n",
    "What we have = [danceability  energy  key  loudness  mode  speechiness acousticness  instrumentalness  liveness  valence  tempo  duration_ms time_signature]"
   ]
  },
  {
   "cell_type": "code",
   "execution_count": 56,
   "metadata": {},
   "outputs": [],
   "source": [
    "#Variable Selection\n",
    "import sklearn\n",
    "from sklearn.ensemble import RandomForestRegressor\n",
    "\n",
    "def select_features_for_popularity(df):\n",
    "    # Define the target variable (popularity) and features\n",
    "    target = df['popularity']\n",
    "    features = [\n",
    "        'danceability', 'energy', 'key', 'loudness', 'mode', 'speechiness',\n",
    "        'acousticness', 'instrumentalness', 'liveness', 'valence', 'tempo',\n",
    "        'duration_ms', 'time_signature'\n",
    "    ]\n",
    "\n",
    "    # Create a DataFrame with only the selected features\n",
    "    selected_features_df = df[features]\n",
    "\n",
    "    # Train a Random Forest model to estimate feature importance\n",
    "    rf = RandomForestRegressor(n_estimators=100, random_state=42)\n",
    "    rf.fit(selected_features_df, target)\n",
    "\n",
    "    # Get feature importances\n",
    "    feature_importances = (pd.Series(rf.feature_importances_, index=features))\n",
    "    feature_importances = feature_importances.sort_values(ascending=False)\n",
    "\n",
    "    # Sort features by importance in descending order\n",
    "    selected_features = feature_importances.sort_values(ascending=False).index.tolist()\n",
    "\n",
    "    return selected_features, feature_importances\n",
    "\n",
    "# Example usage:\n",
    "# Assuming you have a DataFrame 'df' with 'popularity' and other features\n",
    "# selected_features = select_features_for_popularity(df)\n",
    "# print(\"Selected Features for Predicting Popularity:\")\n",
    "# print(selected_features)\n"
   ]
  },
  {
   "cell_type": "code",
   "execution_count": 58,
   "metadata": {},
   "outputs": [],
   "source": [
    "ouput = select_features_for_popularity(df)"
   ]
  },
  {
   "cell_type": "markdown",
   "metadata": {},
   "source": [
    "(['loudness',  \n",
    "  'duration_ms',   \n",
    "  'tempo',   \n",
    "  'danceability',   \n",
    "  'speechiness',    \n",
    "  'liveness',   \n",
    "  'acousticness',   \n",
    "  'valence',   \n",
    "  'energy',   \n",
    "  'instrumentalness',    \n",
    "  'key',    \n",
    "  'mode',    \n",
    "  'time_signature'],    \n",
    " loudness            0.111960    \n",
    " duration_ms         0.100432   \n",
    " tempo               0.100021    \n",
    " danceability        0.099350    \n",
    " speechiness         0.097961    \n",
    " liveness            0.096390    \n",
    " acousticness        0.092973    \n",
    " valence             0.092488    \n",
    " energy              0.086707    \n",
    " instrumentalness    0.057583    \n",
    " key                 0.047823    \n",
    " mode                0.010578    \n",
    " time_signature      0.005734    \n",
    " dtype: float64)    "
   ]
  },
  {
   "cell_type": "code",
   "execution_count": null,
   "metadata": {},
   "outputs": [
    {
     "name": "stdout",
     "output_type": "stream",
     "text": [
      "   popularity  loudness  duration_ms    tempo  danceability  speechiness  \\\n",
      "0          86   -10.506       227093  102.617         0.371       0.0281   \n",
      "1          90    -7.227       266773  173.372         0.429       0.0281   \n",
      "2          87    -4.244       284200  104.504         0.949       0.0572   \n",
      "3          81    -5.708       233933   99.009         0.545       0.0286   \n",
      "4          82    -5.946       270507   94.948         0.843       0.2690   \n",
      "\n",
      "   liveness  acousticness  valence  energy  \n",
      "0    0.1040       0.74800    0.165   0.268  \n",
      "1    0.2340       0.00239    0.285   0.661  \n",
      "2    0.0454       0.03020    0.760   0.661  \n",
      "3    0.1680       0.00664    0.543   0.865  \n",
      "4    0.0771       0.14300    0.613   0.806  \n"
     ]
    }
   ],
   "source": [
    "# List of columns to keep\n",
    "columns_to_keep = ['popularity', 'loudness', 'duration_ms', 'tempo', 'danceability', 'speechiness', 'liveness', 'acousticness', 'valence', 'energy']\n",
    "\n",
    "# Create a new DataFrame with only the selected columns\n",
    "df_filtered = df[columns_to_keep]\n",
    "\n",
    "print(df_filtered.head())"
   ]
  },
  {
   "cell_type": "code",
   "execution_count": 8,
   "metadata": {},
   "outputs": [
    {
     "ename": "AttributeError",
     "evalue": "Module 'numpy.core' has no attribute 'numerictypes'",
     "output_type": "error",
     "traceback": [
      "\u001b[1;31m---------------------------------------------------------------------------\u001b[0m",
      "\u001b[1;31mAttributeError\u001b[0m                            Traceback (most recent call last)",
      "\u001b[1;32mc:\\Users\\co4me\\OneDrive\\Desktop\\CDC 2023 Adi, Nimil, Sanjay, Pranish\\CDC2023\\neuralnetwork.ipynb Cell 11\u001b[0m line \u001b[0;36m<cell line: 1>\u001b[1;34m()\u001b[0m\n\u001b[1;32m----> <a href='vscode-notebook-cell:/c%3A/Users/co4me/OneDrive/Desktop/CDC%202023%20Adi%2C%20Nimil%2C%20Sanjay%2C%20Pranish/CDC2023/neuralnetwork.ipynb#X22sZmlsZQ%3D%3D?line=0'>1</a>\u001b[0m \u001b[39mimport\u001b[39;00m \u001b[39mnumpy\u001b[39;00m \u001b[39mas\u001b[39;00m \u001b[39mnp\u001b[39;00m\n\u001b[0;32m      <a href='vscode-notebook-cell:/c%3A/Users/co4me/OneDrive/Desktop/CDC%202023%20Adi%2C%20Nimil%2C%20Sanjay%2C%20Pranish/CDC2023/neuralnetwork.ipynb#X22sZmlsZQ%3D%3D?line=1'>2</a>\u001b[0m \u001b[39mimport\u001b[39;00m \u001b[39mtensorflow\u001b[39;00m \u001b[39mas\u001b[39;00m \u001b[39mtf\u001b[39;00m\n\u001b[0;32m      <a href='vscode-notebook-cell:/c%3A/Users/co4me/OneDrive/Desktop/CDC%202023%20Adi%2C%20Nimil%2C%20Sanjay%2C%20Pranish/CDC2023/neuralnetwork.ipynb#X22sZmlsZQ%3D%3D?line=2'>3</a>\u001b[0m \u001b[39mfrom\u001b[39;00m \u001b[39msklearn\u001b[39;00m\u001b[39m.\u001b[39;00m\u001b[39mmodel_selection\u001b[39;00m \u001b[39mimport\u001b[39;00m train_test_split\n",
      "File \u001b[1;32m~\\AppData\\Local\\Packages\\PythonSoftwareFoundation.Python.3.10_qbz5n2kfra8p0\\LocalCache\\local-packages\\Python310\\site-packages\\numpy\\__init__.py:191\u001b[0m, in \u001b[0;36m<module>\u001b[1;34m\u001b[0m\n\u001b[0;32m    184\u001b[0m __deprecated_attrs__\u001b[39m.\u001b[39mupdate({\n\u001b[0;32m    185\u001b[0m     n: (\u001b[39mgetattr\u001b[39m(_builtins, n), _msg\u001b[39m.\u001b[39mformat(n\u001b[39m=\u001b[39mn, extended_msg\u001b[39m=\u001b[39mextended_msg))\n\u001b[0;32m    186\u001b[0m     \u001b[39mfor\u001b[39;00m n, extended_msg \u001b[39min\u001b[39;00m _type_info\n\u001b[0;32m    187\u001b[0m })\n\u001b[0;32m    189\u001b[0m \u001b[39m# Numpy 1.20.0, 2020-10-19\u001b[39;00m\n\u001b[0;32m    190\u001b[0m __deprecated_attrs__[\u001b[39m\"\u001b[39m\u001b[39mtypeDict\u001b[39m\u001b[39m\"\u001b[39m] \u001b[39m=\u001b[39m (\n\u001b[1;32m--> 191\u001b[0m     core\u001b[39m.\u001b[39;49mnumerictypes\u001b[39m.\u001b[39mtypeDict,\n\u001b[0;32m    192\u001b[0m     \u001b[39m\"\u001b[39m\u001b[39m`np.typeDict` is a deprecated alias for `np.sctypeDict`.\u001b[39m\u001b[39m\"\u001b[39m\n\u001b[0;32m    193\u001b[0m )\n\u001b[0;32m    195\u001b[0m \u001b[39m# NumPy 1.22, 2021-10-20\u001b[39;00m\n\u001b[0;32m    196\u001b[0m __deprecated_attrs__[\u001b[39m\"\u001b[39m\u001b[39mMachAr\u001b[39m\u001b[39m\"\u001b[39m] \u001b[39m=\u001b[39m (\n\u001b[0;32m    197\u001b[0m     core\u001b[39m.\u001b[39m_machar\u001b[39m.\u001b[39mMachAr,\n\u001b[0;32m    198\u001b[0m     \u001b[39m\"\u001b[39m\u001b[39m`np.MachAr` is deprecated (NumPy 1.22).\u001b[39m\u001b[39m\"\u001b[39m\n\u001b[0;32m    199\u001b[0m )\n",
      "File \u001b[1;32m~\\AppData\\Local\\Packages\\PythonSoftwareFoundation.Python.3.10_qbz5n2kfra8p0\\LocalCache\\local-packages\\Python310\\site-packages\\numpy\\core\\__init__.py:161\u001b[0m, in \u001b[0;36m__getattr__\u001b[1;34m(name)\u001b[0m\n\u001b[0;32m    156\u001b[0m     warnings\u001b[39m.\u001b[39mwarn(\n\u001b[0;32m    157\u001b[0m         \u001b[39m\"\u001b[39m\u001b[39mThe `np.core.machar` module is deprecated (NumPy 1.22)\u001b[39m\u001b[39m\"\u001b[39m,\n\u001b[0;32m    158\u001b[0m         \u001b[39mDeprecationWarning\u001b[39;00m, stacklevel\u001b[39m=\u001b[39m\u001b[39m2\u001b[39m,\n\u001b[0;32m    159\u001b[0m     )\n\u001b[0;32m    160\u001b[0m     \u001b[39mreturn\u001b[39;00m _machar\n\u001b[1;32m--> 161\u001b[0m \u001b[39mraise\u001b[39;00m \u001b[39mAttributeError\u001b[39;00m(\u001b[39mf\u001b[39m\u001b[39m\"\u001b[39m\u001b[39mModule \u001b[39m\u001b[39m{\u001b[39;00m\u001b[39m__name__\u001b[39m\u001b[39m!r}\u001b[39;00m\u001b[39m has no attribute \u001b[39m\u001b[39m{\u001b[39;00mname\u001b[39m!r}\u001b[39;00m\u001b[39m\"\u001b[39m)\n",
      "\u001b[1;31mAttributeError\u001b[0m: Module 'numpy.core' has no attribute 'numerictypes'"
     ]
    }
   ],
   "source": [
    "\n",
    "import numpy as np\n",
    "import tensorflow as tf\n",
    "from sklearn.model_selection import train_test_split\n",
    "from sklearn.preprocessing import StandardScaler\n",
    "from tensorflow import keras\n",
    "from tensorflow.keras import layers\n",
    "from tensorflow.keras.layers import LSTM, Dense\n",
    "\n",
    "\n",
    "# Load your DataFrame (replace 'your_data.csv' with your actual data file)\n",
    "\n",
    "# Define input features and target variable\n",
    "input_features = ['loudness', 'duration_ms', 'tempo', 'danceability', 'speechiness', 'liveness', 'acousticness', 'valence', 'energy']\n",
    "target_variable = 'popularity'\n",
    "\n",
    "# Split the data into training and testing sets\n",
    "X = df_filtered[input_features].values\n",
    "y = df_filtered[target_variable].values\n",
    "\n",
    "X_train, X_test, y_train, y_test = train_test_split(X, y, test_size=0.2, random_state=42)\n",
    "\n",
    "# Standardize (normalize) the input features\n",
    "scaler = StandardScaler()\n",
    "X_train = scaler.fit_transform(X_train)\n",
    "X_test = scaler.transform(X_test)\n",
    "\n",
    "# Build a simple neural network model\n",
    "model = keras.Sequential([\n",
    "    layers.Input(shape=(len(input_features),)),\n",
    "    layers.LSTM(128),\n",
    "    layers.Dense(32),\n",
    "    #layers.Dense(16),\n",
    "    layers.Dense(1)  # Output layer for regression\n",
    "])\n",
    "\n",
    "# Compile the model\n",
    "model.compile(optimizer='adam', loss='mean_squared_error', metrics=['mean_absolute_error'])\n",
    "\n",
    "# Train the model\n",
    "model.fit(X_train, y_train, epochs=100, batch_size=32, validation_split=0.2, verbose=2)\n",
    "\n",
    "# Evaluate the model on the test data\n",
    "test_loss, test_mae = model.evaluate(X_test, y_test)\n",
    "print(f\"Test Mean Absolute Error: {test_mae}\")\n",
    "\n",
    "# Make predictions\n",
    "predictions = model.predict(X_test)\n",
    "\n",
    "# You can use predictions for further analysis or visualization\n"
   ]
  },
  {
   "cell_type": "code",
   "execution_count": null,
   "metadata": {},
   "outputs": [
    {
     "name": "stdout",
     "output_type": "stream",
     "text": [
      "[[58.215065]\n",
      " [58.722282]\n",
      " [55.942528]\n",
      " ...\n",
      " [55.668953]\n",
      " [56.090195]\n",
      " [56.9917  ]]\n"
     ]
    }
   ],
   "source": [
    "print(predictions)"
   ]
  },
  {
   "cell_type": "code",
   "execution_count": null,
   "metadata": {},
   "outputs": [
    {
     "ename": "NameError",
     "evalue": "name 'scaler' is not defined",
     "output_type": "error",
     "traceback": [
      "\u001b[1;31m---------------------------------------------------------------------------\u001b[0m",
      "\u001b[1;31mNameError\u001b[0m                                 Traceback (most recent call last)",
      "\u001b[1;32mc:\\Users\\co4me\\OneDrive\\Desktop\\CDC 2023 Adi, Nimil, Sanjay, Pranish\\CDC2023\\neuralnetwork.ipynb Cell 13\u001b[0m line \u001b[0;36m<cell line: 1>\u001b[1;34m()\u001b[0m\n\u001b[0;32m     <a href='vscode-notebook-cell:/c%3A/Users/co4me/OneDrive/Desktop/CDC%202023%20Adi%2C%20Nimil%2C%20Sanjay%2C%20Pranish/CDC2023/neuralnetwork.ipynb#X24sZmlsZQ%3D%3D?line=11'>12</a>\u001b[0m energy \u001b[39m=\u001b[39m \u001b[39m0.268\u001b[39m\n\u001b[0;32m     <a href='vscode-notebook-cell:/c%3A/Users/co4me/OneDrive/Desktop/CDC%202023%20Adi%2C%20Nimil%2C%20Sanjay%2C%20Pranish/CDC2023/neuralnetwork.ipynb#X24sZmlsZQ%3D%3D?line=13'>14</a>\u001b[0m \u001b[39m# Create a feature vector from user inputs\u001b[39;00m\n\u001b[1;32m---> <a href='vscode-notebook-cell:/c%3A/Users/co4me/OneDrive/Desktop/CDC%202023%20Adi%2C%20Nimil%2C%20Sanjay%2C%20Pranish/CDC2023/neuralnetwork.ipynb#X24sZmlsZQ%3D%3D?line=14'>15</a>\u001b[0m user_input \u001b[39m=\u001b[39m scaler\u001b[39m.\u001b[39mtransform([[loudness, duration_ms, tempo, danceability, speechiness, liveness, acousticness, valence, energy]])\n\u001b[0;32m     <a href='vscode-notebook-cell:/c%3A/Users/co4me/OneDrive/Desktop/CDC%202023%20Adi%2C%20Nimil%2C%20Sanjay%2C%20Pranish/CDC2023/neuralnetwork.ipynb#X24sZmlsZQ%3D%3D?line=16'>17</a>\u001b[0m \u001b[39m# Predict the popularity using the model\u001b[39;00m\n\u001b[0;32m     <a href='vscode-notebook-cell:/c%3A/Users/co4me/OneDrive/Desktop/CDC%202023%20Adi%2C%20Nimil%2C%20Sanjay%2C%20Pranish/CDC2023/neuralnetwork.ipynb#X24sZmlsZQ%3D%3D?line=17'>18</a>\u001b[0m prediction \u001b[39m=\u001b[39m model\u001b[39m.\u001b[39mpredict(user_input)\n",
      "\u001b[1;31mNameError\u001b[0m: name 'scaler' is not defined"
     ]
    }
   ],
   "source": [
    "while True:\n",
    "    try:\n",
    "        # Input data from the user\n",
    "        loudness = -10.506\n",
    "        duration_ms = 227093\n",
    "        tempo = 102.617\n",
    "        danceability = 0.371\n",
    "        speechiness = 0.0281\n",
    "        liveness = 0.104\n",
    "        acousticness = 0.748\n",
    "        valence = 0.165\n",
    "        energy = 0.268\n",
    "\n",
    "        # Create a feature vector from user inputs\n",
    "        user_input = scaler.transform([[loudness, duration_ms, tempo, danceability, speechiness, liveness, acousticness, valence, energy]])\n",
    "\n",
    "        # Predict the popularity using the model\n",
    "        prediction = model.predict(user_input)\n",
    "\n",
    "        # Display the predicted popularity\n",
    "        print(f\"Predicted Popularity: {prediction[0][0]}\")\n",
    "\n",
    "    except ValueError:\n",
    "        print(\"Invalid input. Please enter numeric values for all features.\")\n",
    "\n",
    "    # Ask if the user wants to continue\n",
    "    again = input(\"Do you want to predict another popularity value? (yes/no): \").strip().lower()\n",
    "    if again != \"yes\":\n",
    "        break"
   ]
  },
  {
   "cell_type": "markdown",
   "metadata": {},
   "source": [
    "'liveness', 'acousticness', 'valence', 'energy"
   ]
  }
 ],
 "metadata": {
  "kernelspec": {
   "display_name": "Python 3",
   "language": "python",
   "name": "python3"
  },
  "language_info": {
   "codemirror_mode": {
    "name": "ipython",
    "version": 3
   },
   "file_extension": ".py",
   "mimetype": "text/x-python",
   "name": "python",
   "nbconvert_exporter": "python",
   "pygments_lexer": "ipython3",
   "version": "3.10.11"
  },
  "orig_nbformat": 4
 },
 "nbformat": 4,
 "nbformat_minor": 2
}
